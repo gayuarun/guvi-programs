{
 "cells": [
  {
   "cell_type": "code",
   "execution_count": 1,
   "metadata": {},
   "outputs": [],
   "source": [
    "import pandas as pd\n",
    "import numpy as np\n",
    "import pickle"
   ]
  },
  {
   "cell_type": "code",
   "execution_count": 3,
   "metadata": {},
   "outputs": [],
   "source": [
    "m1=\"plan.sav\"\n",
    "Sep1=pickle.load(open(m1,'rb'))"
   ]
  },
  {
   "cell_type": "code",
   "execution_count": 5,
   "metadata": {},
   "outputs": [
    {
     "name": "stdout",
     "output_type": "stream",
     "text": [
      "enter the age:57\n",
      "enter the weight:59\n",
      "enter the hoursRunInAWeek:2\n",
      "enter the highHealWear:0\n",
      "enter the multipleJointPains:0\n",
      "enter the allignmentOfMidFoot:0\n",
      "enter the diabetes:1\n",
      "enter the  cyanosis:0\n",
      "enter the burningSensationInPS:0\n",
      "enter the Tenderness:0\n",
      "plantar is detected\n"
     ]
    }
   ],
   "source": [
    "#Getting Inputs\n",
    "a=int(input(\"enter the age:\"))\n",
    "b=int(input(\"enter the weight:\"))\n",
    "c=int(input(\"enter the hoursRunInAWeek:\"))\n",
    "d=int(input(\"enter the highHealWear:\"))\n",
    "e=int(input(\"enter the multipleJointPains:\"))\n",
    "f=int(input(\"enter the allignmentOfMidFoot:\"))\n",
    "g=int(input(\"enter the diabetes:\"))\n",
    "h=int(input(\"enter the  cyanosis:\"))\n",
    "i=int(input(\"enter the burningSensationInPS:\"))\n",
    "j=int(input(\"enter the Tenderness:\"))\n",
    "# predicit plantar faclilities\n",
    "s=Sep1.predict([[a,b,c,d,e,f,g,h,i,j]])\n",
    "if s[0]==1:\n",
    "    print(\"plantar is detected\")\n",
    "else:\n",
    "    print(\"you are not affected by plantar\")"
   ]
  },
  {
   "cell_type": "code",
   "execution_count": null,
   "metadata": {},
   "outputs": [],
   "source": []
  }
 ],
 "metadata": {
  "kernelspec": {
   "display_name": "Python 3",
   "language": "python",
   "name": "python3"
  },
  "language_info": {
   "codemirror_mode": {
    "name": "ipython",
    "version": 3
   },
   "file_extension": ".py",
   "mimetype": "text/x-python",
   "name": "python",
   "nbconvert_exporter": "python",
   "pygments_lexer": "ipython3",
   "version": "3.7.3"
  }
 },
 "nbformat": 4,
 "nbformat_minor": 2
}
